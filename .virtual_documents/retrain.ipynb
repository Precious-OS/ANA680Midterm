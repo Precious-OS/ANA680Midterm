import os
import pandas as pd
import pickle
from sklearn.ensemble import RandomForestClassifier
from sklearn.model_selection import train_test_split
from sklearn.preprocessing import LabelEncoder

# Create directories
os.makedirs('models', exist_ok=True)


def train_and_save_model():
    # Load and preprocess data
    df = pd.read_csv(r'C:\Users\Precious\Downloads\StudentsPerformance.csv')
    df.columns = df.columns.str.lower().str.replace(' ', '_')

    # Feature engineering
    df['total_score'] = df[['math_score', 'reading_score', 'writing_score']].sum(axis=1)

    # Prepare data
    X = df[['math_score', 'reading_score', 'writing_score', 'total_score']]
    y = LabelEncoder().fit_transform(df['race/ethnicity'])

    # Train-test split
    X_train, X_test, y_train, y_test = train_test_split(
        X, y, test_size=0.25, stratify=y, random_state=42
    )

    # Train model
    model = RandomForestClassifier(n_estimators=200, max_depth=10, class_weight='balanced')
    model.fit(X_train, y_train)

    # Save model and encoder
    with open('models/model.pkl', 'wb') as f:
        pickle.dump(model, f)

    print("Model trained and saved successfully")


if __name__ == '__main__':
    train_and_save_model()



