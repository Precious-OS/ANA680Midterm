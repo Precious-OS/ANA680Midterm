{
 "cells": [
  {
   "metadata": {
    "jupyter": {
     "is_executing": true
    }
   },
   "cell_type": "code",
   "source": [
    "import os\n",
    "import pandas as pd\n",
    "import pickle\n",
    "from sklearn.ensemble import RandomForestClassifier\n",
    "from sklearn.model_selection import train_test_split\n",
    "from sklearn.preprocessing import LabelEncoder\n",
    "\n",
    "# Create directories\n",
    "os.makedirs('models', exist_ok=True)\n",
    "\n",
    "\n",
    "def train_and_save_model():\n",
    "    # Load and preprocess data\n",
    "    df = pd.read_csv(r'C:\\Users\\Precious\\Downloads\\StudentsPerformance.csv')\n",
    "    df.columns = df.columns.str.lower().str.replace(' ', '_')\n",
    "\n",
    "    # Feature engineering\n",
    "    df['total_score'] = df[['math_score', 'reading_score', 'writing_score']].sum(axis=1)\n",
    "\n",
    "    # Prepare data\n",
    "    X = df[['math_score', 'reading_score', 'writing_score', 'total_score']]\n",
    "    y = LabelEncoder().fit_transform(df['race/ethnicity'])\n",
    "\n",
    "    # Train-test split\n",
    "    X_train, X_test, y_train, y_test = train_test_split(\n",
    "        X, y, test_size=0.25, stratify=y, random_state=42\n",
    "    )\n",
    "\n",
    "    # Train model\n",
    "    model = RandomForestClassifier(n_estimators=200, max_depth=10, class_weight='balanced')\n",
    "    model.fit(X_train, y_train)\n",
    "\n",
    "    # Save model and encoder\n",
    "    with open('models/model.pkl', 'wb') as f:\n",
    "        pickle.dump(model, f)\n",
    "\n",
    "    print(\"Model trained and saved successfully\")\n",
    "\n",
    "\n",
    "if __name__ == '__main__':\n",
    "    train_and_save_model()"
   ],
   "id": "43400daf75366371",
   "outputs": [],
   "execution_count": null
  }
 ],
 "metadata": {
  "kernelspec": {
   "display_name": "Python 3",
   "language": "python",
   "name": "python3"
  },
  "language_info": {
   "codemirror_mode": {
    "name": "ipython",
    "version": 2
   },
   "file_extension": ".py",
   "mimetype": "text/x-python",
   "name": "python",
   "nbconvert_exporter": "python",
   "pygments_lexer": "ipython2",
   "version": "2.7.6"
  }
 },
 "nbformat": 4,
 "nbformat_minor": 5
}
